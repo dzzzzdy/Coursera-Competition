{
 "cells": [
  {
   "attachments": {
    "COUR_IPO.png": {
     "image/png": "[encoded data removed]"
    }
   },
   "cell_type": "markdown",
   "metadata": {
    "deletable": false,
    "editable": false,
    "nbgrader": {
     "cell_type": "markdown",
     "checksum": "af0dab4bf493ffd94e2a70dabffd2917",
     "grade": false,
     "grade_id": "cell-c8032e643085d4b6",
     "locked": true,
     "schema_version": 3,
     "solution": false,
     "task": false
    }
   },
   "source": [
    "![COUR_IPO.png](attachment:COUR_IPO.png)"
   ]
  },
  {
   "cell_type": "markdown",
   "metadata": {
    "deletable": false,
    "editable": false,
    "nbgrader": {
     "cell_type": "markdown",
     "checksum": "6a90d4b4074329acaac1e7fa91b9b980",
     "grade": false,
     "grade_id": "cell-4bde05ab27ac14e5",
     "locked": true,
     "schema_version": 3,
     "solution": false,
     "task": false
    }
   },
   "source": [
    "# Welcome to Challenge Labs!"
   ]
  },
  {
   "cell_type": "markdown",
   "metadata": {
    "deletable": false,
    "editable": false,
    "nbgrader": {
     "cell_type": "markdown",
     "checksum": "3593976de03b80e5a2b5c26c55a91803",
     "grade": false,
     "grade_id": "cell-b9f749e4cd16dd21",
     "locked": true,
     "schema_version": 3,
     "solution": false,
     "task": false
    }
   },
   "source": [
    "Challenge labs provide CS & DS Coding Competitions with Prizes that Change Learners’ Lives!\n",
    "\n",
    "CS & DS learners want to be challenged as a way to evaluate if they’re job ready. So, why not create fun challenges and give winners something truly life changing like job interviews at real companies."
   ]
  },
  {
   "cell_type": "markdown",
   "metadata": {
    "deletable": false,
    "editable": false,
    "nbgrader": {
     "cell_type": "markdown",
     "checksum": "cce61eed273968fe449ecc3011bc8490",
     "grade": false,
     "grade_id": "cell-4776224638b5033e",
     "locked": true,
     "schema_version": 3,
     "solution": false,
     "task": false
    }
   },
   "source": [
    "## Introduction"
   ]
  },
  {
   "cell_type": "markdown",
   "metadata": {
    "deletable": false,
    "editable": false,
    "nbgrader": {
     "cell_type": "markdown",
     "checksum": "0564ef8029a9f0555d3c31c5e1ce9703",
     "grade": false,
     "grade_id": "cell-33f440a751a3ce26",
     "locked": true,
     "schema_version": 3,
     "solution": false,
     "task": false
    }
   },
   "source": [
    "In this challenge, you'll get the opportunity to tackle one of the most industry-relevant maching learning problems with a unique dataset that will put your modeling skills to the test. Subscription services are leveraged by companies across many industries, from fitness to video streaming to retail. One of the primary objectives of companies with subscription services is to decrease churn and ensure that users are retained as subscribers. In order to do this efficiently and systematically, many companies employ machine learning to predict which users are at the highest risk of churn, so that proper interventions can be effectively deployed to the right audience.\n",
    "\n",
    "In this challenge, we will be tackling the retention prediction problem on a very unique and interesting group of subscribers, Coursera learners! On Coursera, learners can subscribe to sets of courses in order to gain full access to graded assignments, hands-on projects, and course completion certificates. One of the most common ways that learners subscribe to content is via [Specialization Subscriptions](https://www.coursera.support/s/article/216348103-Coursera-subscriptions?language=en_US#specialization), which give learners unlimited access to the courses in a specific specialization on a month-to-month basis.\n",
    "\n",
    "Imagine that you are a new data scientist at Coursera and you are tasked with building a model that can predict which existing specialization subscribers will continue their subscriptions for another month. We have provided a dataset that is a sample of subscriptions that were initiated in 2021, all snapshotted at a particular date before the subscription was cancelled. Subscription cancellation can happen for a multitude of reasons, including:\n",
    "* the learner completes the specialization or reaches their learning goal and no longer needs the subscription\n",
    "* the learner finds themselves to be too busy and cancels their subscription until a later time\n",
    "* the learner determines that the specialization is not the best fit for their learning goals, so they cancel and look for something better suited\n",
    "\n",
    "Regardless the reason, Coursera has a vested interest in understanding the likelihood of each individual learner to retain in their subscription so that resources can be allocated appropriately to support learners across the various stages of their learning journeys. In this challenge, you will use your machine learning toolkit to do just that!"
   ]
  },
  {
   "cell_type": "markdown",
   "metadata": {
    "deletable": false,
    "editable": false,
    "nbgrader": {
     "cell_type": "markdown",
     "checksum": "87469a362d507970e7455ca80365acc7",
     "grade": false,
     "grade_id": "cell-d0659a425f85c8d9",
     "locked": true,
     "schema_version": 3,
     "solution": false,
     "task": false
    }
   },
   "source": [
    "## Understanding the Datasets"
   ]
  },
  {
   "cell_type": "markdown",
   "metadata": {
    "deletable": false,
    "editable": false,
    "nbgrader": {
     "cell_type": "markdown",
     "checksum": "e374f874bdb3b6d37eacf6ee66dc3e1f",
     "grade": false,
     "grade_id": "cell-2267b885b0d27197",
     "locked": true,
     "schema_version": 3,
     "solution": false,
     "task": false
    }
   },
   "source": [
    "### Train vs. Test\n",
    "In this competition, you’ll gain access to two datasets that are samples of past specialization subscriptions that contain information about the learner, the specialization, and the learner's activity in the subscription thus far. One dataset is titled `train.csv` and the other is titled `test.csv`.\n",
    "\n",
    "`train.csv` contains 70% of the overall sample (509,837 subscriptions to be exact) and importantly, will reveal whether or not the subscription was continued into the next month (the “ground truth”).\n",
    "\n",
    "The `test.csv` dataset contains the exact same information about the remaining segment of the overall sample (217,921 subscriptions to be exact), but does not disclose the “ground truth” for each subscription. It’s your job to predict this outcome!\n",
    "\n",
    "Using the patterns you find in the `train.csv` data, predict whether the subscriptions in `test.csv` will be continued for another month, or not."
   ]
  },
  {
   "cell_type": "markdown",
   "metadata": {
    "deletable": false,
    "editable": false,
    "nbgrader": {
     "cell_type": "markdown",
     "checksum": "fb53da2c25183274e25e8e8505a50594",
     "grade": false,
     "grade_id": "cell-fb82d30972bbe619",
     "locked": true,
     "schema_version": 3,
     "solution": false,
     "task": false
    }
   },
   "source": [
    "### Dataset descriptions\n",
    "Both `train.csv` and `test.csv` contain one row for each unique specialization subscription. For each subscription, a single observation (`subscription_id`) is included as of a particular date (`observation_dt`) during which the subscription was active. This date was chosen at random from all the dates during which the subscription was active. In some instances it is soon after the subscription was initiated; in other instances, it is several months after the subscription was initiated and after several previous payments were made. Therefore, your model will have to be able to adapt to different stages of the subscription.\n",
    "\n",
    "In addition to those identifier columns, the `train.csv` dataset also contains the target label for the task, a binary column `is_retained`.\n",
    "\n",
    "Besides that column, both datasets have an identical set of features that can be used to train your model to make predictions. Below you can see descriptions of each feature. Familiarize yourself with them so that you can harness them most effectively for this machine learning task!"
   ]
  },
  {
   "cell_type": "code",
   "execution_count": 1,
   "metadata": {},
   "outputs": [
    {
     "data": {
      "text/html": [
       "<div>\n",
       "<style scoped>\n",
       "    .dataframe tbody tr th:only-of-type {\n",
       "        vertical-align: middle;\n",
       "    }\n",
       "\n",
       "    .dataframe tbody tr th {\n",
       "        vertical-align: top;\n",
       "    }\n",
       "\n",
       "    .dataframe thead th {\n",
       "        text-align: right;\n",
       "    }\n",
       "</style>\n",
       "<table border=\"1\" class=\"dataframe\">\n",
       "  <thead>\n",
       "    <tr style=\"text-align: right;\">\n",
       "      <th></th>\n",
       "      <th>Column_name</th>\n",
       "      <th>Column_type</th>\n",
       "      <th>Data_type</th>\n",
       "      <th>Description</th>\n",
       "    </tr>\n",
       "  </thead>\n",
       "  <tbody>\n",
       "    <tr>\n",
       "      <th>0</th>\n",
       "      <td>subscription_id</td>\n",
       "      <td>Identifier</td>\n",
       "      <td>character</td>\n",
       "      <td>Unique identifier of each subscription</td>\n",
       "    </tr>\n",
       "    <tr>\n",
       "      <th>1</th>\n",
       "      <td>observation_dt</td>\n",
       "      <td>Identifier</td>\n",
       "      <td>date</td>\n",
       "      <td>The date on which the subscription was observed to calculate the features in the dataset. It was chosen at random amongst all the dates between the start of the subscription and the end of the subscription (before cancellation)</td>\n",
       "    </tr>\n",
       "    <tr>\n",
       "      <th>2</th>\n",
       "      <td>is_retained</td>\n",
       "      <td>Target</td>\n",
       "      <td>Integer</td>\n",
       "      <td>TRAINING SET ONLY! 0 = the learner cancelled their subscription before next payment, 1 = the learner made an additional payment in this subscription</td>\n",
       "    </tr>\n",
       "    <tr>\n",
       "      <th>3</th>\n",
       "      <td>specialization_id</td>\n",
       "      <td>Feature - Specialization Info</td>\n",
       "      <td>character</td>\n",
       "      <td>Unique identifier of a specialization (each subscription gives a learner access to a particular specialization)</td>\n",
       "    </tr>\n",
       "    <tr>\n",
       "      <th>4</th>\n",
       "      <td>cnt_courses_in_specialization</td>\n",
       "      <td>Feature - Specialization Info</td>\n",
       "      <td>integer</td>\n",
       "      <td>number of courses in the specialization</td>\n",
       "    </tr>\n",
       "    <tr>\n",
       "      <th>5</th>\n",
       "      <td>specialization_domain</td>\n",
       "      <td>Feature - Specialization Info</td>\n",
       "      <td>character</td>\n",
       "      <td>primary domain of the specialization (Computer Science, Data Science, etc.)</td>\n",
       "    </tr>\n",
       "    <tr>\n",
       "      <th>6</th>\n",
       "      <td>is_professional_certificate</td>\n",
       "      <td>Feature - Specialization Info</td>\n",
       "      <td>boolean</td>\n",
       "      <td>BOOLEAN for whether the specialization is a \"professional certicate\" (a special type of specialization that awards completers with an industry-sponsored credential)</td>\n",
       "    </tr>\n",
       "    <tr>\n",
       "      <th>7</th>\n",
       "      <td>is_gateway_certificate</td>\n",
       "      <td>Feature - Specialization Info</td>\n",
       "      <td>boolean</td>\n",
       "      <td>BOOLEAN for whether the specialization is a \"gateway certificate\" (a special type of specialization geared towards learners starting in a new field)</td>\n",
       "    </tr>\n",
       "    <tr>\n",
       "      <th>8</th>\n",
       "      <td>learner_days_since_registration</td>\n",
       "      <td>Feature - Learner Info</td>\n",
       "      <td>integer</td>\n",
       "      <td>Days from coursera registration date to the date on which the observation is made</td>\n",
       "    </tr>\n",
       "    <tr>\n",
       "      <th>9</th>\n",
       "      <td>learner_country_group</td>\n",
       "      <td>Feature - Learner Info</td>\n",
       "      <td>character</td>\n",
       "      <td>the region of the world that the learner is from (United States, East Asia, etc.)</td>\n",
       "    </tr>\n",
       "    <tr>\n",
       "      <th>10</th>\n",
       "      <td>learner_gender</td>\n",
       "      <td>Feature - Learner Info</td>\n",
       "      <td>character</td>\n",
       "      <td>the reported gender of the learner (if not available, then \"unknown\")</td>\n",
       "    </tr>\n",
       "    <tr>\n",
       "      <th>11</th>\n",
       "      <td>learner_cnt_other_courses_active</td>\n",
       "      <td>Feature - Learner Info</td>\n",
       "      <td>integer</td>\n",
       "      <td>Other courses (not in this specialization) in which the learner was active prior to observation_dt</td>\n",
       "    </tr>\n",
       "    <tr>\n",
       "      <th>12</th>\n",
       "      <td>learner_cnt_other_courses_paid_active</td>\n",
       "      <td>Feature - Learner Info</td>\n",
       "      <td>integer</td>\n",
       "      <td>Other courses (not in this specialization) in which the learner was active prior to observation_dt and was a paid enrollee</td>\n",
       "    </tr>\n",
       "    <tr>\n",
       "      <th>13</th>\n",
       "      <td>learner_cnt_other_courses_items_completed</td>\n",
       "      <td>Feature - Learner Info</td>\n",
       "      <td>integer</td>\n",
       "      <td>Items completed in other courses (not in this specialization) prior to the observation_dt</td>\n",
       "    </tr>\n",
       "    <tr>\n",
       "      <th>14</th>\n",
       "      <td>learner_cnt_other_courses_paid_items_completed</td>\n",
       "      <td>Feature - Learner Info</td>\n",
       "      <td>integer</td>\n",
       "      <td>Items completed in other courses (not in this specialization) prior to the observation_dt, where the learner was a paid enrollee</td>\n",
       "    </tr>\n",
       "    <tr>\n",
       "      <th>15</th>\n",
       "      <td>learner_cnt_other_transactions_past</td>\n",
       "      <td>Feature - Learner Info</td>\n",
       "      <td>integer</td>\n",
       "      <td>Other payments that the learner made on Coursera separate from this subscription</td>\n",
       "    </tr>\n",
       "    <tr>\n",
       "      <th>16</th>\n",
       "      <td>learner_other_revenue</td>\n",
       "      <td>Feature - Learner Info</td>\n",
       "      <td>numeric</td>\n",
       "      <td>US Dollar estimate of other payments that the learner made on Coursera separate from this subscription</td>\n",
       "    </tr>\n",
       "    <tr>\n",
       "      <th>17</th>\n",
       "      <td>subscription_period_order</td>\n",
       "      <td>Feature - Subscription Status</td>\n",
       "      <td>integer</td>\n",
       "      <td>An index of the \"month\" of the subcription; 1 = first month of payment, 2 = second month of payment</td>\n",
       "    </tr>\n",
       "    <tr>\n",
       "      <th>18</th>\n",
       "      <td>days_since_last_payment</td>\n",
       "      <td>Feature - Subscription Status</td>\n",
       "      <td>integer</td>\n",
       "      <td>Days since the last payment in the subscription</td>\n",
       "    </tr>\n",
       "    <tr>\n",
       "      <th>19</th>\n",
       "      <td>days_til_next_payment_due</td>\n",
       "      <td>Feature - Subscription Status</td>\n",
       "      <td>integer</td>\n",
       "      <td>Days until the next payment in the subsciption is due</td>\n",
       "    </tr>\n",
       "    <tr>\n",
       "      <th>20</th>\n",
       "      <td>cnt_enrollments_started_before_payment_period</td>\n",
       "      <td>Feature - Prior Subscription Activity</td>\n",
       "      <td>integer</td>\n",
       "      <td>Courses in the subscription specialization that were enrolled prior to the start of this subscription period</td>\n",
       "    </tr>\n",
       "    <tr>\n",
       "      <th>21</th>\n",
       "      <td>cnt_enrollments_completed_before_payment_period</td>\n",
       "      <td>Feature - Prior Subscription Activity</td>\n",
       "      <td>integer</td>\n",
       "      <td>Courses in the subscription specialization that were completed prior to the start of this subscription period</td>\n",
       "    </tr>\n",
       "    <tr>\n",
       "      <th>22</th>\n",
       "      <td>cnt_enrollments_active_before_payment_period</td>\n",
       "      <td>Feature - Prior Subscription Activity</td>\n",
       "      <td>integer</td>\n",
       "      <td>Courses in the subscription specialization that were active prior to the start of this subscription period</td>\n",
       "    </tr>\n",
       "    <tr>\n",
       "      <th>23</th>\n",
       "      <td>cnt_items_completed_before_payment_period</td>\n",
       "      <td>Feature - Prior Subscription Activity</td>\n",
       "      <td>integer</td>\n",
       "      <td>Items in the subscription specialization that were completed prior to the start of the subscription period</td>\n",
       "    </tr>\n",
       "    <tr>\n",
       "      <th>24</th>\n",
       "      <td>cnt_graded_items_completed_before_payment_period</td>\n",
       "      <td>Feature - Prior Subscription Activity</td>\n",
       "      <td>integer</td>\n",
       "      <td>Graded items (assignments) in the subscription speciallzation that were completed prior to the start of the subscription period</td>\n",
       "    </tr>\n",
       "    <tr>\n",
       "      <th>25</th>\n",
       "      <td>is_subscription_started_with_free_trial</td>\n",
       "      <td>Feature - Prior Subscription Activity</td>\n",
       "      <td>boolean</td>\n",
       "      <td>BOOLEAN for whether or not the subscription started with a free trial (7-day period for the learner to sample the specialization before paying)</td>\n",
       "    </tr>\n",
       "    <tr>\n",
       "      <th>26</th>\n",
       "      <td>cnt_enrollments_started_during_payment_period</td>\n",
       "      <td>Feature - Current Subscription Activity</td>\n",
       "      <td>integer</td>\n",
       "      <td>Courses in the subscription specialization that were enrolled during this subscription period (before observation_dt)</td>\n",
       "    </tr>\n",
       "    <tr>\n",
       "      <th>27</th>\n",
       "      <td>cnt_enrollments_completed_during_payment_period</td>\n",
       "      <td>Feature - Current Subscription Activity</td>\n",
       "      <td>integer</td>\n",
       "      <td>Courses in the subscription specialization that were completed during this subscription period (before observation_dt)</td>\n",
       "    </tr>\n",
       "    <tr>\n",
       "      <th>28</th>\n",
       "      <td>cnt_enrollments_active_during_payment_period</td>\n",
       "      <td>Feature - Current Subscription Activity</td>\n",
       "      <td>integer</td>\n",
       "      <td>Courses in the subscription specialization that were active during this subscription period (before observation_dt)</td>\n",
       "    </tr>\n",
       "    <tr>\n",
       "      <th>29</th>\n",
       "      <td>cnt_items_completed_during_payment_period</td>\n",
       "      <td>Feature - Current Subscription Activity</td>\n",
       "      <td>integer</td>\n",
       "      <td>Items in the subscription specialization that were completed during this subscription period (before observation_dt)</td>\n",
       "    </tr>\n",
       "    <tr>\n",
       "      <th>30</th>\n",
       "      <td>cnt_graded_items_completed_during_payment_period</td>\n",
       "      <td>Feature - Current Subscription Activity</td>\n",
       "      <td>integer</td>\n",
       "      <td>Graded items (assignments) in the subscription speciallzation that were completed during this subscription period (before observation_dt)</td>\n",
       "    </tr>\n",
       "    <tr>\n",
       "      <th>31</th>\n",
       "      <td>is_active_capstone_during_pay_period</td>\n",
       "      <td>Feature - Current Subscription Activity</td>\n",
       "      <td>boolean</td>\n",
       "      <td>BOOLEAN for whether the learner was active in a capstone course during this subscription period. The last course in some specializations is called a \"captone\" course as allows the learner to apply the skills they have learned in the prior courses up to that point.</td>\n",
       "    </tr>\n",
       "    <tr>\n",
       "      <th>32</th>\n",
       "      <td>sum_hours_learning_before_payment_period</td>\n",
       "      <td>Feature - Current Subscription Activity</td>\n",
       "      <td>numeric</td>\n",
       "      <td>Hours spent learning in subscription specialization courses prior to the subscription period</td>\n",
       "    </tr>\n",
       "    <tr>\n",
       "      <th>33</th>\n",
       "      <td>sum_hours_learning_during_payment_period</td>\n",
       "      <td>Feature - Current Subscription Activity</td>\n",
       "      <td>numeric</td>\n",
       "      <td>Hours spent learning in subscription specialization courses during the subscription period (before observation_dt)</td>\n",
       "    </tr>\n",
       "    <tr>\n",
       "      <th>34</th>\n",
       "      <td>cnt_days_active_before_payment_period</td>\n",
       "      <td>Feature - Current Subscription Activity</td>\n",
       "      <td>integer</td>\n",
       "      <td>Days active in the subscription specialization prior to the subscription period</td>\n",
       "    </tr>\n",
       "    <tr>\n",
       "      <th>35</th>\n",
       "      <td>cnt_days_active_during_payment_period</td>\n",
       "      <td>Feature - Current Subscription Activity</td>\n",
       "      <td>integer</td>\n",
       "      <td>Days active thus far in the subscription period (before observation_dt)</td>\n",
       "    </tr>\n",
       "    <tr>\n",
       "      <th>36</th>\n",
       "      <td>cnt_days_since_last_activity</td>\n",
       "      <td>Feature - Current Subscription Activity</td>\n",
       "      <td>integer</td>\n",
       "      <td>Days since the most recent activity date in the subscription (if never active, defaults to the number of days since the start of the subscription)</td>\n",
       "    </tr>\n",
       "  </tbody>\n",
       "</table>\n",
       "</div>"
      ],
      "text/plain": [
       "                                         Column_name  \\\n",
       "0                                    subscription_id   \n",
       "1                                     observation_dt   \n",
       "2                                        is_retained   \n",
       "3                                  specialization_id   \n",
       "4                      cnt_courses_in_specialization   \n",
       "5                              specialization_domain   \n",
       "6                        is_professional_certificate   \n",
       "7                             is_gateway_certificate   \n",
       "8                    learner_days_since_registration   \n",
       "9                              learner_country_group   \n",
       "10                                    learner_gender   \n",
       "11                  learner_cnt_other_courses_active   \n",
       "12             learner_cnt_other_courses_paid_active   \n",
       "13         learner_cnt_other_courses_items_completed   \n",
       "14    learner_cnt_other_courses_paid_items_completed   \n",
       "15               learner_cnt_other_transactions_past   \n",
       "16                             learner_other_revenue   \n",
       "17                         subscription_period_order   \n",
       "18                           days_since_last_payment   \n",
       "19                         days_til_next_payment_due   \n",
       "20     cnt_enrollments_started_before_payment_period   \n",
       "21   cnt_enrollments_completed_before_payment_period   \n",
       "22      cnt_enrollments_active_before_payment_period   \n",
       "23         cnt_items_completed_before_payment_period   \n",
       "24  cnt_graded_items_completed_before_payment_period   \n",
       "25           is_subscription_started_with_free_trial   \n",
       "26     cnt_enrollments_started_during_payment_period   \n",
       "27   cnt_enrollments_completed_during_payment_period   \n",
       "28      cnt_enrollments_active_during_payment_period   \n",
       "29         cnt_items_completed_during_payment_period   \n",
       "30  cnt_graded_items_completed_during_payment_period   \n",
       "31              is_active_capstone_during_pay_period   \n",
       "32          sum_hours_learning_before_payment_period   \n",
       "33          sum_hours_learning_during_payment_period   \n",
       "34             cnt_days_active_before_payment_period   \n",
       "35             cnt_days_active_during_payment_period   \n",
       "36                      cnt_days_since_last_activity   \n",
       "\n",
       "                                Column_type  Data_type  \\\n",
       "0                                Identifier  character   \n",
       "1                                Identifier       date   \n",
       "2                                    Target    Integer   \n",
       "3             Feature - Specialization Info  character   \n",
       "4             Feature - Specialization Info    integer   \n",
       "5             Feature - Specialization Info  character   \n",
       "6             Feature - Specialization Info    boolean   \n",
       "7             Feature - Specialization Info    boolean   \n",
       "8                    Feature - Learner Info    integer   \n",
       "9                    Feature - Learner Info  character   \n",
       "10                   Feature - Learner Info  character   \n",
       "11                   Feature - Learner Info    integer   \n",
       "12                   Feature - Learner Info    integer   \n",
       "13                   Feature - Learner Info    integer   \n",
       "14                   Feature - Learner Info    integer   \n",
       "15                   Feature - Learner Info    integer   \n",
       "16                   Feature - Learner Info    numeric   \n",
       "17            Feature - Subscription Status    integer   \n",
       "18            Feature - Subscription Status    integer   \n",
       "19            Feature - Subscription Status    integer   \n",
       "20    Feature - Prior Subscription Activity    integer   \n",
       "21    Feature - Prior Subscription Activity    integer   \n",
       "22    Feature - Prior Subscription Activity    integer   \n",
       "23    Feature - Prior Subscription Activity    integer   \n",
       "24    Feature - Prior Subscription Activity    integer   \n",
       "25    Feature - Prior Subscription Activity    boolean   \n",
       "26  Feature - Current Subscription Activity    integer   \n",
       "27  Feature - Current Subscription Activity    integer   \n",
       "28  Feature - Current Subscription Activity    integer   \n",
       "29  Feature - Current Subscription Activity    integer   \n",
       "30  Feature - Current Subscription Activity    integer   \n",
       "31  Feature - Current Subscription Activity    boolean   \n",
       "32  Feature - Current Subscription Activity    numeric   \n",
       "33  Feature - Current Subscription Activity    numeric   \n",
       "34  Feature - Current Subscription Activity    integer   \n",
       "35  Feature - Current Subscription Activity    integer   \n",
       "36  Feature - Current Subscription Activity    integer   \n",
       "\n",
       "                                                                                                                                                                                                                                                                 Description  \n",
       "0                                                                                                                                                                                                                                     Unique identifier of each subscription  \n",
       "1                                        The date on which the subscription was observed to calculate the features in the dataset. It was chosen at random amongst all the dates between the start of the subscription and the end of the subscription (before cancellation)  \n",
       "2                                                                                                                       TRAINING SET ONLY! 0 = the learner cancelled their subscription before next payment, 1 = the learner made an additional payment in this subscription  \n",
       "3                                                                                                                                                            Unique identifier of a specialization (each subscription gives a learner access to a particular specialization)  \n",
       "4                                                                                                                                                                                                                                    number of courses in the specialization  \n",
       "5                                                                                                                                                                                                primary domain of the specialization (Computer Science, Data Science, etc.)  \n",
       "6                                                                                                       BOOLEAN for whether the specialization is a \"professional certicate\" (a special type of specialization that awards completers with an industry-sponsored credential)  \n",
       "7                                                                                                                       BOOLEAN for whether the specialization is a \"gateway certificate\" (a special type of specialization geared towards learners starting in a new field)  \n",
       "8                                                                                                                                                                                          Days from coursera registration date to the date on which the observation is made  \n",
       "9                                                                                                                                                                                          the region of the world that the learner is from (United States, East Asia, etc.)  \n",
       "10                                                                                                                                                                                                     the reported gender of the learner (if not available, then \"unknown\")  \n",
       "11                                                                                                                                                                        Other courses (not in this specialization) in which the learner was active prior to observation_dt  \n",
       "12                                                                                                                                                Other courses (not in this specialization) in which the learner was active prior to observation_dt and was a paid enrollee  \n",
       "13                                                                                                                                                                                 Items completed in other courses (not in this specialization) prior to the observation_dt  \n",
       "14                                                                                                                                          Items completed in other courses (not in this specialization) prior to the observation_dt, where the learner was a paid enrollee  \n",
       "15                                                                                                                                                                                          Other payments that the learner made on Coursera separate from this subscription  \n",
       "16                                                                                                                                                                    US Dollar estimate of other payments that the learner made on Coursera separate from this subscription  \n",
       "17                                                                                                                                                                       An index of the \"month\" of the subcription; 1 = first month of payment, 2 = second month of payment  \n",
       "18                                                                                                                                                                                                                           Days since the last payment in the subscription  \n",
       "19                                                                                                                                                                                                                     Days until the next payment in the subsciption is due  \n",
       "20                                                                                                                                                              Courses in the subscription specialization that were enrolled prior to the start of this subscription period  \n",
       "21                                                                                                                                                             Courses in the subscription specialization that were completed prior to the start of this subscription period  \n",
       "22                                                                                                                                                                Courses in the subscription specialization that were active prior to the start of this subscription period  \n",
       "23                                                                                                                                                                Items in the subscription specialization that were completed prior to the start of the subscription period  \n",
       "24                                                                                                                                           Graded items (assignments) in the subscription speciallzation that were completed prior to the start of the subscription period  \n",
       "25                                                                                                                           BOOLEAN for whether or not the subscription started with a free trial (7-day period for the learner to sample the specialization before paying)  \n",
       "26                                                                                                                                                     Courses in the subscription specialization that were enrolled during this subscription period (before observation_dt)  \n",
       "27                                                                                                                                                    Courses in the subscription specialization that were completed during this subscription period (before observation_dt)  \n",
       "28                                                                                                                                                       Courses in the subscription specialization that were active during this subscription period (before observation_dt)  \n",
       "29                                                                                                                                                      Items in the subscription specialization that were completed during this subscription period (before observation_dt)  \n",
       "30                                                                                                                                 Graded items (assignments) in the subscription speciallzation that were completed during this subscription period (before observation_dt)  \n",
       "31  BOOLEAN for whether the learner was active in a capstone course during this subscription period. The last course in some specializations is called a \"captone\" course as allows the learner to apply the skills they have learned in the prior courses up to that point.  \n",
       "32                                                                                                                                                                              Hours spent learning in subscription specialization courses prior to the subscription period  \n",
       "33                                                                                                                                                        Hours spent learning in subscription specialization courses during the subscription period (before observation_dt)  \n",
       "34                                                                                                                                                                                           Days active in the subscription specialization prior to the subscription period  \n",
       "35                                                                                                                                                                                                   Days active thus far in the subscription period (before observation_dt)  \n",
       "36                                                                                                                        Days since the most recent activity date in the subscription (if never active, defaults to the number of days since the start of the subscription)  "
      ]
     },
     "execution_count": 1,
     "metadata": {},
     "output_type": "execute_result"
    }
   ],
   "source": [
    "import pandas as pd\n",
    "data_descriptions = pd.read_csv('data_descriptions.csv')\n",
    "pd.set_option('display.max_colwidth', None)\n",
    "data_descriptions"
   ]
  },
  {
   "cell_type": "markdown",
   "metadata": {
    "deletable": false,
    "editable": false,
    "nbgrader": {
     "cell_type": "markdown",
     "checksum": "290554e710ea4a14691f86a042dc3742",
     "grade": false,
     "grade_id": "cell-8df13316a3d127f2",
     "locked": true,
     "schema_version": 3,
     "solution": false,
     "task": false
    }
   },
   "source": [
    "## How to Submit your Predictions to Coursera"
   ]
  },
  {
   "cell_type": "markdown",
   "metadata": {
    "deletable": false,
    "editable": false,
    "nbgrader": {
     "cell_type": "markdown",
     "checksum": "e70ec115a8a40cc92e21868059a7e200",
     "grade": false,
     "grade_id": "cell-4bb6bad6792180bc",
     "locked": true,
     "schema_version": 3,
     "solution": false,
     "task": false
    }
   },
   "source": [
    "Submission Format:\n",
    "\n",
    "In this notebook you should follow the steps below to explore the data, train a model using the data in `train.csv`, and then score your model using the data in `test.csv`. Your final submission should be a dataframe (call it `prediction_df` with two columns and exactly 217,921 rows (plus a header row). The first column should be `subscription_id` so that we know which prediction belongs to which observation. The second column should be called `predicted_probability` and should be a numeric column representing the __likellihood that the subscription is retained__.\n",
    "\n",
    "Your submission will show an error if you have extra columns (beyond `subscription_id` and `predicted_probability`) or extra rows. The order of the rows does not matter.\n",
    "\n",
    "The naming convention of the dataframe and columns are critical for our autograding, so please make sure to use the exact naming conventions of `prediction_df` with column names `subscription_id` and `predicted_probability`!\n",
    "\n",
    "To determine your final score, we will compare your `predicted_probability` predictions to the source of truth labels for the observations in `test.csv` and calculate the [ROC AUC](https://scikit-learn.org/stable/modules/generated/sklearn.metrics.roc_auc_score.html). We choose this metric because we not only want to be able to predict which subscriptions will be retained, but also want a well-calibrated likelihood score that can be used to target interventions and support most accurately."
   ]
  },
  {
   "cell_type": "markdown",
   "metadata": {
    "deletable": false,
    "editable": false,
    "nbgrader": {
     "cell_type": "markdown",
     "checksum": "4db30c254b95fca31a7f099bc6658dd2",
     "grade": false,
     "grade_id": "cell-ac94aa11c2b5afc4",
     "locked": true,
     "schema_version": 3,
     "solution": false,
     "task": false
    }
   },
   "source": [
    "## Import Python Modules"
   ]
  },
  {
   "cell_type": "markdown",
   "metadata": {
    "deletable": false,
    "editable": false,
    "nbgrader": {
     "cell_type": "markdown",
     "checksum": "f8e6d1dfbb79e906d6c0e06487709bcb",
     "grade": false,
     "grade_id": "cell-6fdaf33f1dfb7a4e",
     "locked": true,
     "schema_version": 3,
     "solution": false,
     "task": false
    }
   },
   "source": [
    "First, import the primary modules that will be used in this project. Remember as this is an open-ended project please feel free to make use of any of your favorite libraries that you feel may be useful for this challenge. For example some of the following popular packages may be useful:\n",
    "\n",
    "- pandas\n",
    "- numpy\n",
    "- Scipy\n",
    "- Scikit-learn\n",
    "- keras\n",
    "- maplotlib\n",
    "- seaborn\n",
    "- etc, etc"
   ]
  },
  {
   "cell_type": "code",
   "execution_count": 124,
   "metadata": {},
   "outputs": [],
   "source": [
    "# Import any other packages you may want to use\n",
    "import datetime\n",
    "\n",
    "import numpy as np \n",
    "import pandas as pd\n",
    "\n",
    "import matplotlib.pyplot as plt\n",
    "import seaborn as sns\n",
    "\n",
    "import os\n",
    "\n",
    "import warnings\n",
    "warnings.filterwarnings(\"ignore\")\n",
    "import gc"
   ]
  },
  {
   "cell_type": "markdown",
   "metadata": {
    "deletable": false,
    "editable": false,
    "nbgrader": {
     "cell_type": "markdown",
     "checksum": "fd404259257020eec5cf238d6b7e0716",
     "grade": false,
     "grade_id": "cell-681adc5ef9141365",
     "locked": true,
     "schema_version": 3,
     "solution": false,
     "task": false
    }
   },
   "source": [
    "## Load the Data"
   ]
  },
  {
   "cell_type": "markdown",
   "metadata": {
    "deletable": false,
    "editable": false,
    "nbgrader": {
     "cell_type": "markdown",
     "checksum": "3662946a47dc4b9228926d2c41c2507e",
     "grade": false,
     "grade_id": "cell-f51d64738256f064",
     "locked": true,
     "schema_version": 3,
     "solution": false,
     "task": false
    }
   },
   "source": [
    "Let's start by loading the dataset `train.csv` into a dataframe `train_df`, and `test.csv` into a dataframe `test_df` and display the shape of the dataframes."
   ]
  },
  {
   "cell_type": "code",
   "execution_count": 125,
   "metadata": {},
   "outputs": [],
   "source": [
    "train_data = pd.read_csv(\"train.csv\")\n",
    "train_data = train_data.iloc[:-1]\n",
    "test_data = pd.read_csv('test.csv')"
   ]
  },
  {
   "cell_type": "markdown",
   "metadata": {
    "deletable": false,
    "editable": false,
    "nbgrader": {
     "cell_type": "markdown",
     "checksum": "4baa0e0ae0b43e3e1ba1aafd6502f541",
     "grade": false,
     "grade_id": "cell-845f8ee4c50e9ae1",
     "locked": true,
     "schema_version": 3,
     "solution": false,
     "task": false
    }
   },
   "source": [
    "## Explore, Clean, Validate, and Visualize the Data (optional)\n",
    "\n",
    "Feel free to explore, clean, validate, and visualize the data however you see fit for this competition to help determine or optimize your predictive model. Please note - the final autograding will only be on the accuracy of the `prediction_df` predictions."
   ]
  },
  {
   "cell_type": "code",
   "execution_count": 126,
   "metadata": {},
   "outputs": [],
   "source": [
    "#time\n",
    "i = []\n",
    "for v in train_data['days_til_next_payment_due']:\n",
    "    i.append(v)\n",
    "payment_times = list()\n",
    "for n, v in enumerate(i):\n",
    "    payment_time = pd.to_datetime(train_data['observation_dt'][n]) + pd.Timedelta(days = v)\n",
    "    payment_times.append(payment_time)\n",
    "train_data['payment_time'] = payment_times\n",
    "times_series = pd.to_datetime(train_data['payment_time'])\n",
    "train_data['Payment_Year'] = times_series.dt.year \n",
    "train_data['Payment_Month'] = times_series.dt.month\n",
    "train_data['Payment_Day'] = times_series.dt.day\n",
    "train_data['Payment_DayOfWeek'] = times_series.dt.dayofweek\n",
    "train_data['Payment_DayOfYear'] = times_series.dt.dayofyear\n",
    "train_data['Payment_WeekOfYear'] = times_series.dt.weekofyear\n",
    "i = []\n",
    "for v in test_data['days_til_next_payment_due']:\n",
    "    i.append(v)\n",
    "payment_times = list()\n",
    "for n, v in enumerate(i):\n",
    "    payment_time = pd.to_datetime(test_data['observation_dt'][n]) + pd.Timedelta(days = v)\n",
    "    payment_times.append(payment_time)\n",
    "test_data['payment_time'] = payment_times\n",
    "times_series = pd.to_datetime(test_data['payment_time'])\n",
    "test_data['Payment_Year'] = times_series.dt.year \n",
    "test_data['Payment_Month'] = times_series.dt.month\n",
    "test_data['Payment_Day'] = times_series.dt.day\n",
    "test_data['Payment_DayOfWeek'] = times_series.dt.dayofweek\n",
    "test_data['Payment_DayOfYear'] = times_series.dt.dayofyear\n",
    "test_data['Payment_WeekOfYear'] = times_series.dt.weekofyear\n",
    "\n",
    "#feature engineering\n",
    "train_data['pay_period'] = train_data['days_since_last_payment']+ train_data['days_til_next_payment_due']\n",
    "test_data['pay_period'] = test_data['days_since_last_payment']+ test_data['days_til_next_payment_due']\n",
    "train_data['percent_payment_period_left'] = train_data['days_til_next_payment_due'] / train_data['pay_period']\n",
    "test_data['percent_payment_period_left'] = test_data['days_til_next_payment_due'] / test_data['pay_period']\n",
    "train_data['percent_active_days_since_last_payment'] = train_data['cnt_days_active_during_payment_period']/(train_data['days_since_last_payment']+1)\n",
    "test_data['percent_active_days_since_last_payment'] = test_data['cnt_days_active_during_payment_period']/(test_data['days_since_last_payment']+1)\n",
    "train_data['avg_hour_on_active_day'] = train_data['sum_hours_learning_during_payment_period']/train_data['cnt_days_active_during_payment_period']\n",
    "train_data['avg_hour_on_active_day'] = train_data['avg_hour_on_active_day'].fillna(-1)\n",
    "test_data['avg_hour_on_active_day'] = test_data['sum_hours_learning_during_payment_period']/test_data['cnt_days_active_during_payment_period']\n",
    "test_data['avg_hour_on_active_day'] = test_data['avg_hour_on_active_day'].fillna(-1)\n",
    "train_data['avg_hour_on_days_since_last_payment'] = train_data['sum_hours_learning_during_payment_period']/(train_data['days_since_last_payment']+1)\n",
    "test_data['avg_hour_on_days_since_last_payment'] = test_data['sum_hours_learning_during_payment_period']/(test_data['days_since_last_payment']+1)\n",
    "train_data['days_subscription_period_order'] = (train_data['subscription_period_order']-1)*30\n",
    "test_data['days_subscription_period_order'] = (test_data['subscription_period_order']-1)*30\n",
    "cols = ['is_subscription_started_with_free_trial']\n",
    "for col in cols:\n",
    "    train_data[col] = train_data[col].map({True: 1,\n",
    "                                           False: 0})\n",
    "cols = ['is_subscription_started_with_free_trial']\n",
    "for col in cols:\n",
    "    test_data[col] = test_data[col].map({True: 1,\n",
    "                                           False: 0})\n",
    "train_data['free_trial_day'] = train_data['is_subscription_started_with_free_trial']*7\n",
    "test_data['free_trial_day'] = test_data['is_subscription_started_with_free_trial']*7\n",
    "train_data['days_in_specialization_before_payment_period'] = train_data['days_subscription_period_order']+ train_data['free_trial_day']\n",
    "test_data['days_in_specialization_before_payment_period'] = test_data['days_subscription_period_order']+ test_data['free_trial_day']\n",
    "train_data['stage_in_coursera'] = (train_data['days_in_specialization_before_payment_period']+train_data['days_since_last_payment']+1)/(train_data['learner_days_since_registration']+1)\n",
    "test_data['stage_in_coursera'] = (test_data['days_in_specialization_before_payment_period']+test_data['days_since_last_payment']+1)/(test_data['learner_days_since_registration']+1)\n",
    "train_data['stage_in_coursera'] = train_data['stage_in_coursera'].fillna(-1)\n",
    "test_data['stage_in_coursera'] = test_data['stage_in_coursera'].fillna(-1)\n",
    "train_data['days_to_complete_a_course_before'] = (train_data['days_in_specialization_before_payment_period']+1)/ train_data['cnt_enrollments_completed_before_payment_period']\n",
    "train_data['days_to_complete_a_course_before'] = train_data['days_to_complete_a_course_before'].fillna(600)\n",
    "test_data['days_to_complete_a_course_before'] = (test_data['days_in_specialization_before_payment_period']+1)/ test_data['cnt_enrollments_completed_before_payment_period']\n",
    "test_data['days_to_complete_a_course_before'] = test_data['days_to_complete_a_course_before'].fillna(600)\n",
    "train_data['days_to_complete_a_course_before'] = train_data['days_to_complete_a_course_before'].replace(np.inf, 600)\n",
    "test_data['days_to_complete_a_course_before'] = test_data['days_to_complete_a_course_before'].replace(np.inf, 600)\n",
    "train_data['remain_courses'] = train_data['cnt_courses_in_specialization'] - train_data['cnt_enrollments_completed_before_payment_period']-train_data['cnt_enrollments_completed_during_payment_period']\n",
    "train_data['remain_courses'] = train_data['remain_courses'].apply(lambda x: -1 if x<0 else x)\n",
    "test_data['remain_courses'] = test_data['cnt_courses_in_specialization'] - test_data['cnt_enrollments_completed_before_payment_period']-test_data['cnt_enrollments_completed_during_payment_period']\n",
    "test_data['remain_courses'] = test_data['remain_courses'].apply(lambda x: -1 if x<0 else x)\n",
    "train_data['extra_course_to_take_before'] = train_data['days_til_next_payment_due']/train_data['days_to_complete_a_course_before']\n",
    "test_data['extra_course_to_take_before'] = test_data['days_til_next_payment_due']/test_data['days_to_complete_a_course_before']\n",
    "train_data['remain_course_after_period_end_before'] = train_data['remain_courses'] - train_data['extra_course_to_take_before']\n",
    "test_data['remain_course_after_period_end_before'] = test_data['remain_courses'] - test_data['extra_course_to_take_before']\n",
    "train_data.drop(['free_trial_day', 'days_subscription_period_order', 'extra_course_to_take_before'], axis = 1, inplace = True)\n",
    "test_data.drop(['free_trial_day', 'days_subscription_period_order', 'extra_course_to_take_before'], axis = 1, inplace = True)\n",
    "train_data['days_to_complete_a_course_recent'] = (train_data['days_since_last_payment']+1)/train_data['cnt_enrollments_completed_during_payment_period']\n",
    "train_data['days_to_complete_a_course_recent'] = train_data['days_to_complete_a_course_recent'].replace(np.inf, 1000)\n",
    "train_data['days_to_complete_a_course_recent'] = train_data['days_to_complete_a_course_recent'].fillna(100)\n",
    "test_data['days_to_complete_a_course_recent'] = (test_data['days_since_last_payment']+1)/test_data['cnt_enrollments_completed_during_payment_period']\n",
    "test_data['days_to_complete_a_course_recent'] = test_data['days_to_complete_a_course_recent'].replace(np.inf, 1000)\n",
    "test_data['days_to_complete_a_course_recent'] = test_data['days_to_complete_a_course_recent'].fillna(100)\n",
    "train_data['extra_course_to_take_recent'] = train_data['days_til_next_payment_due']/ train_data['days_to_complete_a_course_recent']\n",
    "test_data['extra_course_to_take_recent'] = test_data['days_til_next_payment_due']/ test_data['days_to_complete_a_course_recent']\n",
    "train_data['remain_course_after_period_end_recent'] = train_data['remain_courses'] - train_data['extra_course_to_take_recent']\n",
    "test_data['remain_course_after_period_end_recent'] = test_data['remain_courses'] - test_data['extra_course_to_take_recent']\n",
    "train_data.drop('extra_course_to_take_recent', axis = 1, inplace = True)\n",
    "test_data.drop('extra_course_to_take_recent', axis = 1, inplace = True)\n",
    "train_data['remain_percentage'] = train_data['remain_courses']/train_data['cnt_courses_in_specialization']\n",
    "train_data['remain_percentage_recent'] = train_data['remain_course_after_period_end_recent']/train_data['cnt_courses_in_specialization']\n",
    "train_data['remain_percentage_before'] = train_data['remain_course_after_period_end_before']/train_data['cnt_courses_in_specialization']\n",
    "test_data['remain_percentage'] = test_data['remain_courses']/test_data['cnt_courses_in_specialization']\n",
    "test_data['remain_percentage_recent'] = test_data['remain_course_after_period_end_recent']/test_data['cnt_courses_in_specialization']\n",
    "test_data['remain_percentage_before'] = test_data['remain_course_after_period_end_before']/test_data['cnt_courses_in_specialization']\n",
    "train_data['percent_other_paid_items_completed'] = train_data['learner_cnt_other_courses_paid_items_completed']/train_data['learner_cnt_other_courses_items_completed']\n",
    "train_data['percent_other_paid_items_completed'] = train_data['percent_other_paid_items_completed'].fillna(-1)\n",
    "test_data['percent_other_paid_items_completed'] = test_data['learner_cnt_other_courses_paid_items_completed']/test_data['learner_cnt_other_courses_items_completed']\n",
    "test_data['percent_other_paid_items_completed'] = test_data['percent_other_paid_items_completed'].fillna(-1)\n",
    "train_data['percent_other_courses_paid_active'] = train_data['learner_cnt_other_courses_paid_active']/train_data['learner_cnt_other_courses_active']\n",
    "train_data['percent_other_courses_paid_active'] = train_data['percent_other_courses_paid_active'].fillna(-1)\n",
    "test_data['percent_other_courses_paid_active'] = test_data['learner_cnt_other_courses_paid_active']/test_data['learner_cnt_other_courses_active']\n",
    "test_data['percent_other_courses_paid_active'] = test_data['percent_other_courses_paid_active'].fillna(-1)\n",
    "num_courses = {}\n",
    "max_graded_items = {}\n",
    "for spec_id in train_data['specialization_id'].unique():\n",
    "    num_courses[spec_id]= train_data[train_data.specialization_id == spec_id]['cnt_courses_in_specialization'].values[0]\n",
    "    max_graded_items[spec_id] = train_data[(train_data.specialization_id == spec_id)& \n",
    "                         (train_data.cnt_enrollments_completed_before_payment_period ==num_courses[spec_id])]['cnt_graded_items_completed_before_payment_period'].max()\n",
    "train_data['max_graded_items'] = train_data['specialization_id'].map(max_graded_items)\n",
    "train_data['graded_item_left'] = train_data['max_graded_items']-train_data['cnt_graded_items_completed_before_payment_period']-train_data['cnt_graded_items_completed_during_payment_period']\n",
    "train_data['max_graded_items'] = train_data['max_graded_items'].fillna(100)\n",
    "train_data['graded_item_left'] = train_data['graded_item_left'].fillna(200)\n",
    "test_data['max_graded_items'] = test_data['specialization_id'].map(max_graded_items)\n",
    "test_data['graded_item_left'] = test_data['max_graded_items']-test_data['cnt_graded_items_completed_before_payment_period']-train_data['cnt_graded_items_completed_during_payment_period']\n",
    "test_data['max_graded_items'] = test_data['max_graded_items'].fillna(100)\n",
    "test_data['graded_item_left'] = test_data['graded_item_left'].fillna(200)\n",
    "num_courses = {}\n",
    "max_items = {}\n",
    "for spec_id in train_data['specialization_id'].unique():\n",
    "    num_courses[spec_id]= train_data[train_data.specialization_id == spec_id]['cnt_courses_in_specialization'].values[0]\n",
    "    max_items[spec_id] = train_data[(train_data.specialization_id == spec_id)& \n",
    "                         (train_data.cnt_enrollments_completed_before_payment_period ==num_courses[spec_id])]['cnt_items_completed_before_payment_period'].max()\n",
    "train_data['max_items'] = train_data['specialization_id'].map(max_items)\n",
    "train_data['item_left'] = train_data['max_items']-train_data['cnt_items_completed_before_payment_period']-train_data['cnt_items_completed_during_payment_period']\n",
    "cols = ['item_left','max_items']\n",
    "train_data['item_left'] = train_data['item_left'].fillna(1500)\n",
    "train_data['max_items'] = train_data['max_items'].fillna(1000)\n",
    "test_data['max_items'] = test_data['specialization_id'].map(max_items)\n",
    "test_data['item_left'] = test_data['max_items']-test_data['cnt_items_completed_before_payment_period']-train_data['cnt_items_completed_during_payment_period']\n",
    "test_data['item_left'] = test_data['item_left'].fillna(1500)\n",
    "test_data['max_items'] = test_data['max_items'].fillna(1000)\n",
    "train_data['percentage_graded_left'] = train_data['graded_item_left']/train_data['max_graded_items']\n",
    "train_data['percentage_item_left'] = train_data['item_left']/train_data['max_items']\n",
    "test_data['percentage_graded_left'] = test_data['graded_item_left']/test_data['max_graded_items']\n",
    "test_data['percentage_item_left'] = test_data['item_left']/test_data['max_items']"
   ]
  },
  {
   "cell_type": "code",
   "execution_count": 127,
   "metadata": {},
   "outputs": [],
   "source": [
    "#feature encode\n",
    "def categorical_value_encode(cols):\n",
    "    for col in cols:\n",
    "        Counts = train_data[col].value_counts()\n",
    "        Total = len(train_data)\n",
    "        Percent = Counts/Total\n",
    "        temp = pd.DataFrame()\n",
    "        temp['Counts'] = Counts\n",
    "        temp['Percent'] = Percent\n",
    "        temp_dict = temp['Percent'].to_dict()\n",
    "        train_data[col+'_encode'] = train_data[col].map(temp_dict)\n",
    "        test_data[col+'_encode'] = test_data[col].map(temp_dict)\n",
    "        del temp\n",
    "        gc.collect()\n",
    "\n",
    "def mean_encode(cols):\n",
    "    for col in cols:\n",
    "        dict = train_data.groupby(by = col)['is_retained'].mean().to_dict()\n",
    "        train_data[col+'_mean_encode'] = train_data[col].map(dict)\n",
    "        test_data[col+'_mean_encode'] = test_data[col].map(dict)\n",
    "        \n",
    "cols = ['specialization_id', 'specialization_domain', 'learner_country_group',\n",
    "        'is_active_capstone_during_pay_period', 'Payment_Day','Payment_Month', 'Payment_DayOfWeek', 'Payment_DayOfYear',\n",
    "       'Payment_WeekOfYear']\n",
    "categorical_value_encode(cols)\n",
    "\n",
    "cols = ['specialization_id', 'specialization_domain', 'learner_country_group','Payment_Day','Payment_Month', 'Payment_DayOfWeek', 'Payment_DayOfYear',\n",
    "       'Payment_WeekOfYear']\n",
    "mean_encode(cols)\n",
    "\n",
    "dict = {'male' : 1, 'female': 2, 'other': 3, 'unknown': 4}\n",
    "train_data['learner_gender'] = train_data['learner_gender'].map(dict)\n",
    "test_data['learner_gender'] = test_data['learner_gender'].map(dict)\n",
    "\n",
    "cols = ['learner_gender']\n",
    "train_data = pd.get_dummies(train_data, columns = cols)\n",
    "test_data = pd.get_dummies(test_data, columns = cols)\n",
    "\n",
    "train_data = train_data.fillna(-1)\n",
    "test_data = test_data.fillna(-1)"
   ]
  },
  {
   "cell_type": "code",
   "execution_count": 128,
   "metadata": {},
   "outputs": [],
   "source": [
    "cols = ['is_retained','subscription_id', 'observation_dt', 'specialization_id',\n",
    "       'specialization_domain', 'learner_country_group', 'is_active_capstone_during_pay_period', 'is_professional_certificate', 'is_gateway_certificate','payment_time']\n",
    "X_train = train_data.drop(cols, axis = 1)\n",
    "cols = ['subscription_id', 'observation_dt', 'specialization_id',\n",
    "       'specialization_domain', 'learner_country_group', 'is_active_capstone_during_pay_period', 'is_professional_certificate', 'is_gateway_certificate','payment_time']\n",
    "X_test = test_data.drop(cols, axis = 1)\n",
    "y_train = train_data['is_retained']"
   ]
  },
  {
   "cell_type": "code",
   "execution_count": 129,
   "metadata": {},
   "outputs": [
    {
     "name": "stdout",
     "output_type": "stream",
     "text": [
      "Shape of X_train: (413954, 77) \n",
      "Shape of X_test: (217921, 77) \n",
      "Shape of y_train: (413954,)\n"
     ]
    }
   ],
   "source": [
    "print('Shape of X_train:', X_train.shape,'\\nShape of X_test:',X_test.shape, '\\nShape of y_train:',y_train.shape)"
   ]
  },
  {
   "cell_type": "markdown",
   "metadata": {
    "deletable": false,
    "editable": false,
    "nbgrader": {
     "cell_type": "markdown",
     "checksum": "25877df7d489a1bc02cd7e2db0bbc7c4",
     "grade": false,
     "grade_id": "cell-d0f3069026d19f9c",
     "locked": true,
     "schema_version": 3,
     "solution": false,
     "task": false
    }
   },
   "source": [
    "## Make predictions (required)\n",
    "\n",
    "Remember you should create a dataframe named `prediction_df` with exactly 217,921 entries plus a header row attempting to predict the likelihood of retention for subscriptions in `test_df`. Your submission will throw an error if you have extra columns (beyond `subscription_id` and `predicted_probaility`) or extra rows.\n",
    "\n",
    "The file should have exactly 2 columns:\n",
    "`subscription_id` (sorted in any order)\n",
    "`predicted_probability` (contains your numeric predicted probabilities between 0 and 1, e.g. from `estimator.predict_proba(X, y)[:, 1]`)\n",
    "\n",
    "The naming convention of the dataframe and columns are critical for our autograding, so please make sure to use the exact naming conventions of `prediction_df` with column names `subscription_id` and `predicted_probability`!"
   ]
  },
  {
   "cell_type": "markdown",
   "metadata": {
    "deletable": false,
    "editable": false,
    "nbgrader": {
     "cell_type": "markdown",
     "checksum": "fe6a9f76bf3afadd8bca14844cc29822",
     "grade": false,
     "grade_id": "cell-6df7c772d801196c",
     "locked": true,
     "schema_version": 3,
     "solution": false,
     "task": false
    }
   },
   "source": [
    "### Example prediction submission:\n",
    "\n",
    "The code below is a very naive prediction method that simply predicts retention using a Dummy Classifier. This is used as just an example showing the submission format required. Please change/alter/delete this code below and create your own improved prediction methods for generating `prediction_df`."
   ]
  },
  {
   "cell_type": "markdown",
   "metadata": {
    "deletable": false,
    "editable": false,
    "nbgrader": {
     "cell_type": "markdown",
     "checksum": "d1dd997e53033d6b60dd735f47bc5ed8",
     "grade": false,
     "grade_id": "cell-985b2d76f8109daf",
     "locked": true,
     "schema_version": 3,
     "solution": false,
     "task": false
    }
   },
   "source": [
    "**PLEASE CHANGE CODE BELOW TO IMPLEMENT YOUR OWN PREDICTIONS**"
   ]
  },
  {
   "cell_type": "code",
   "execution_count": 101,
   "metadata": {},
   "outputs": [
    {
     "name": "stdout",
     "output_type": "stream",
     "text": [
      "Requirement already satisfied: lightgbm in /opt/conda/lib/python3.7/site-packages (3.3.3)\n",
      "Requirement already satisfied: numpy in /opt/conda/lib/python3.7/site-packages (from lightgbm) (1.18.4)\n",
      "Requirement already satisfied: scipy in /opt/conda/lib/python3.7/site-packages (from lightgbm) (1.4.1)\n",
      "Requirement already satisfied: scikit-learn!=0.22.0 in /opt/conda/lib/python3.7/site-packages (from lightgbm) (0.22.2.post1)\n",
      "Requirement already satisfied: wheel in /opt/conda/lib/python3.7/site-packages (from lightgbm) (0.34.2)\n",
      "Requirement already satisfied: joblib>=0.11 in /opt/conda/lib/python3.7/site-packages (from scikit-learn!=0.22.0->lightgbm) (0.14.1)\n",
      "Note: you may need to restart the kernel to use updated packages.\n"
     ]
    }
   ],
   "source": [
    "pip install lightgbm"
   ]
  },
  {
   "cell_type": "code",
   "execution_count": 22,
   "metadata": {},
   "outputs": [
    {
     "name": "stdout",
     "output_type": "stream",
     "text": [
      "Collecting xgboost\n",
      "  Downloading xgboost-1.6.2-py3-none-manylinux2014_x86_64.whl (255.9 MB)\n",
      "\u001b[K     |████████████████████████████████| 255.9 MB 21 kB/s /s eta 0:00:01\n",
      "\u001b[?25hRequirement already satisfied: numpy in /opt/conda/lib/python3.7/site-packages (from xgboost) (1.18.4)\n",
      "Requirement already satisfied: scipy in /opt/conda/lib/python3.7/site-packages (from xgboost) (1.4.1)\n",
      "Installing collected packages: xgboost\n",
      "Successfully installed xgboost-1.6.2\n",
      "Note: you may need to restart the kernel to use updated packages.\n"
     ]
    }
   ],
   "source": [
    "pip install xgboost"
   ]
  },
  {
   "cell_type": "code",
   "execution_count": 23,
   "metadata": {},
   "outputs": [],
   "source": [
    "from sklearn.model_selection import StratifiedKFold\n",
    "import lightgbm as lgb\n",
    "import xgboost as xgb\n",
    "from sklearn.ensemble import RandomForestClassifier\n",
    "from sklearn.metrics import roc_auc_score"
   ]
  },
  {
   "cell_type": "code",
   "execution_count": null,
   "metadata": {},
   "outputs": [],
   "source": [
    "#Lightgbm\n",
    "lgb_params = {'max_depth' : 27,\n",
    "          'num_leaves' : 141,\n",
    "          'feature_fraction':  0.752886200043855,\n",
    "          'bagging_fraction': 0.9895667193681426,\n",
    "          'min_child_weight': 137,\n",
    "          'min_child_samples': 248,\n",
    "          'objective': 'binary',\n",
    "          \"boosting_type\": \"gbdt\",\n",
    "          \"bagging_seed\": 11,\n",
    "          \"metric\": 'auc',\n",
    "          \"verbosity\": -1,\n",
    "          'random_state': 0,\n",
    "          'bagging_freq': 4,\n",
    "          'lambda_l1': 8.152194012996402e-05,\n",
    "          'lambda_l2': 4.808452731941671,\n",
    "          'learning_rate': 0.01\n",
    "          }\n",
    "\n",
    "FOLDs = StratifiedKFold(n_splits = 5, shuffle = True, random_state = 1210)\n",
    "oof_lgb = np.zeros(len(X_train))\n",
    "predictions_lgb = np.zeros(len(X_test))\n",
    "\n",
    "for fold_, (trn_idx, val_idx) in enumerate(FOLDs.split(X_train, y_train)):\n",
    "    trn_data = lgb.Dataset(X_train.iloc[trn_idx], label = y_train.iloc[trn_idx])\n",
    "    val_data = lgb.Dataset(X_train.iloc[val_idx], label = y_train.iloc[val_idx])\n",
    "    \n",
    "    print('LGB' + str(fold_) + '-'*50)\n",
    "    num_round = 2000\n",
    "    clf = lgb.train(lgb_params, trn_data, num_round, valid_sets = [trn_data, val_data], verbose_eval=1, early_stopping_rounds = 200)\n",
    "    oof_lgb[val_idx] = clf.predict(X_train.iloc[val_idx], num_iteration=clf.best_iteration)\n",
    "    predictions_lgb += clf.predict(X_test, num_iteration=clf.best_iteration) / FOLDs.n_splits"
   ]
  },
  {
   "cell_type": "code",
   "execution_count": null,
   "metadata": {},
   "outputs": [],
   "source": [
    "#XGBOOST\n",
    "xgb_params = {'max_depth': 6, \n",
    "              'learning_rate': 0.05,\n",
    "              'n_estimators': 7976, \n",
    "              'min_child_weight': 263, \n",
    "              'gamma': 0.04531056954914964, \n",
    "              'alpha': 0.6065067198001333, \n",
    "              'lambda': 0.0014558435502249458, \n",
    "              'colsample_bytree': 0.4846627597053331, \n",
    "              'subsample': 0.7492899155649017,\n",
    "              'objective' : 'binary:logistic',\n",
    "              'eval_metric':'auc'\n",
    "              }\n",
    "\n",
    "FOLDs = StratifiedKFold(n_splits = 5, shuffle = True, random_state = 1)\n",
    "oof_xgb = np.zeros(len(X_train))\n",
    "predictions_xgb = np.zeros(len(X_test))\n",
    "\n",
    "for fold_, (trn_idx, val_idx) in enumerate(FOLDs.split(X_train, y_train)):\n",
    "    x_train_1 = X_train.values[trn_idx]\n",
    "    y_train_1 = y_train.values[trn_idx]\n",
    "    x_val_1 = X_train.values[val_idx]\n",
    "    y_val_1 = y_train.values[val_idx]\n",
    "    \n",
    "    print('XGB' + str(fold_) + '-'*50)\n",
    "    \n",
    "    clf = xgb.XGBClassifier(**xgb_params)\n",
    "    clf.fit(x_train_1, y_train_1, eval_set=[(x_train_1, y_train_1), (x_val_1, y_val_1)],early_stopping_rounds = 200)\n",
    "    oof_xgb[val_idx] = clf.predict_proba(x_val_1, iteration_range=(0, clf.best_iteration + 1))[:,1]\n",
    "    predictions_xgb += clf.predict_proba(X_test, iteration_range = (0, clf.best_iteration + 1))[:,1] / FOLDs.n_splits"
   ]
  },
  {
   "cell_type": "code",
   "execution_count": null,
   "metadata": {},
   "outputs": [],
   "source": [
    "#Random Forest\n",
    "\n",
    "params = {'n_estimators': 105, \n",
    "              'max_depth': 30, \n",
    "              'min_samples_split': 120, \n",
    "              'min_samples_leaf': 33}\n",
    "\n",
    "FOLDs = StratifiedKFold(n_splits = 5, shuffle = True, random_state = 1210)\n",
    "oof_rf = np.zeros(len(X_train))\n",
    "predictions_rf = np.zeros(len(X_test))\n",
    "\n",
    "for fold_, (trn_idx, val_idx) in enumerate(FOLDs.split(X_train, y_train)):\n",
    "    x_train_1 = X_train.values[trn_idx]\n",
    "    y_train_1 = y_train.values[trn_idx]\n",
    "    x_val_1 = X_train.values[val_idx]\n",
    "    y_val_1 = y_train.values[val_idx]\n",
    "    \n",
    "    print('RF' + str(fold_) + '-'*50)\n",
    "    rf = RandomForestClassifier(**params, random_state=122)\n",
    "    rf.fit(x_train_1, y_train_1)\n",
    "    oof_rf[val_idx] = rf.predict_proba(x_val_1)[:,1]\n",
    "    predictions_rf += rf.predict_proba(X_test)[:,1]/FOLDs.n_splits"
   ]
  },
  {
   "cell_type": "code",
   "execution_count": null,
   "metadata": {},
   "outputs": [],
   "source": [
    "#Stacking\n",
    "\n",
    "from sklearn.linear_model import LogisticRegressionCV\n",
    "\n",
    "base_model_test = pd.DataFrame()\n",
    "base_model_test['lgb'] = predictions_lgb\n",
    "base_model_test['xgb'] = predictions_xgb \n",
    "base_model_test['rf'] = predictions_rf\n",
    "\n",
    "base_model_train = pd.DataFrame()\n",
    "base_model_train['lgb'] = oof_lgb\n",
    "base_model_train['xgb'] = oof_xgb\n",
    "base_model_train['rf'] = oof_rf\n",
    "\n",
    "stack = LogisticRegressionCV(class_weight = 'balanced', cv=5, scoring = 'roc_auc', random_state=0, penalty = 'l2' )\n",
    "stack.fit(base_model_train, y_train)\n",
    "prob_pred = stack.predict_proba(base_model_test)[:,1]\n",
    "\n",
    "prediction_df = pd.DataFrame()\n",
    "prediction_df['subscription_id'] = test_data['subscription_id']\n",
    "prediction_df['predicted_probability'] = prob_pred"
   ]
  },
  {
   "cell_type": "code",
   "execution_count": 155,
   "metadata": {},
   "outputs": [
    {
     "name": "stdout",
     "output_type": "stream",
     "text": [
      "I'm grateful for your help\n"
     ]
    }
   ],
   "source": [
    "print(\"I'm grateful for your help\")"
   ]
  },
  {
   "cell_type": "markdown",
   "metadata": {
    "deletable": false,
    "editable": false,
    "nbgrader": {
     "cell_type": "markdown",
     "checksum": "68d9145a0961e48fd1a64f9c67cfeb9c",
     "grade": false,
     "grade_id": "cell-68914e4d1c997ce3",
     "locked": true,
     "schema_version": 3,
     "solution": false,
     "task": false
    }
   },
   "source": [
    "**PLEASE CHANGE CODE ABOVE TO IMPLEMENT YOUR OWN PREDICTIONS**"
   ]
  },
  {
   "cell_type": "markdown",
   "metadata": {
    "deletable": false,
    "editable": false,
    "nbgrader": {
     "cell_type": "markdown",
     "checksum": "332a59fc1886c66fff06c82aa4886d3a",
     "grade": false,
     "grade_id": "cell-6ddc9c7036a31ac6",
     "locked": true,
     "schema_version": 3,
     "solution": false,
     "task": false
    }
   },
   "source": [
    "## Final Tests - **IMPORTANT** - the cells below must be run prior to submission\n",
    "\n",
    "Below are some tests to ensure your submission is in the correct format for grading. Please run the tests below an ensure no assertion errors are thrown."
   ]
  },
  {
   "cell_type": "code",
   "execution_count": 148,
   "metadata": {
    "deletable": false,
    "editable": false,
    "nbgrader": {
     "cell_type": "code",
     "checksum": "ff05a71c96b93240d469fce58ce8fbc3",
     "grade": true,
     "grade_id": "cell-2e6fe1054cecfac7",
     "locked": true,
     "points": 1,
     "schema_version": 3,
     "solution": false,
     "task": false
    }
   },
   "outputs": [],
   "source": [
    "# FINAL TEST CELLS - please make sure all of your code is above these test cells\n",
    "\n",
    "# Writing to csv for autograding purposes\n",
    "prediction_df.to_csv(\"prediction_submission.csv\", index=False)\n",
    "submission = pd.read_csv(\"prediction_submission.csv\")\n",
    "\n",
    "assert isinstance(submission, pd.DataFrame), 'You should have a dataframe named prediction_df.'"
   ]
  },
  {
   "cell_type": "code",
   "execution_count": 149,
   "metadata": {
    "deletable": false,
    "editable": false,
    "nbgrader": {
     "cell_type": "code",
     "checksum": "fe2f5aef7ad95ff49cfb0740111efc74",
     "grade": true,
     "grade_id": "cell-1890b9f3ad7dbf69",
     "locked": true,
     "points": 1,
     "schema_version": 3,
     "solution": false,
     "task": false
    }
   },
   "outputs": [],
   "source": [
    "# FINAL TEST CELLS - please make sure all of your code is above these test cells\n",
    "\n",
    "assert submission.shape[0] == 217921, 'The dataframe prediction_df should have 217921 rows.'"
   ]
  },
  {
   "cell_type": "code",
   "execution_count": 150,
   "metadata": {
    "deletable": false,
    "editable": false,
    "nbgrader": {
     "cell_type": "code",
     "checksum": "b3d0f1490eedd196d6d0fb70c3f751e4",
     "grade": true,
     "grade_id": "cell-fbdbf9aed9f70da1",
     "locked": true,
     "points": 1,
     "schema_version": 3,
     "solution": false,
     "task": false
    }
   },
   "outputs": [],
   "source": [
    "# FINAL TEST CELLS - please make sure all of your code is above these test cells\n",
    "\n",
    "assert submission.shape[1] == 2, 'The dataframe prediction_df should have 2 columns.'"
   ]
  },
  {
   "cell_type": "code",
   "execution_count": 108,
   "metadata": {
    "deletable": false,
    "editable": false,
    "nbgrader": {
     "cell_type": "code",
     "checksum": "c4c1dc6f465615cb24159f85b3d46ef1",
     "grade": true,
     "grade_id": "cell-957bf7eff73aa91d",
     "locked": true,
     "points": 1,
     "schema_version": 3,
     "solution": false,
     "task": false
    }
   },
   "outputs": [],
   "source": [
    "# FINAL TEST CELLS - please make sure all of your code is above these test cells\n",
    "\n",
    "## This cell calculates the auc score and is hidden. Submit Assignment to see AUC score.\n"
   ]
  },
  {
   "cell_type": "markdown",
   "metadata": {
    "deletable": false,
    "editable": false,
    "nbgrader": {
     "cell_type": "markdown",
     "checksum": "a26e871efdc73025547000ab61191afe",
     "grade": false,
     "grade_id": "cell-3bfd585b82e8e11a",
     "locked": true,
     "schema_version": 3,
     "solution": false,
     "task": false
    }
   },
   "source": [
    "## SUBMIT YOUR WORK!\n",
    "\n",
    "Once we are happy with our `prediction_df` we can now submit for autograding! Submit by using the blue **Submit Assignment** at the top of your notebook. Don't worry if your initial submission isn't perfect as you have multiple submission attempts and will obtain some feedback after each submission!"
   ]
  },
  {
   "cell_type": "code",
   "execution_count": null,
   "metadata": {},
   "outputs": [],
   "source": []
  }
 ],
 "metadata": {
  "kernelspec": {
   "display_name": "Python 3",
   "language": "python",
   "name": "python3"
  },
  "language_info": {
   "codemirror_mode": {
    "name": "ipython",
    "version": 3
   },
   "file_extension": ".py",
   "mimetype": "text/x-python",
   "name": "python",
   "nbconvert_exporter": "python",
   "pygments_lexer": "ipython3",
   "version": "3.7.6"
  }
 },
 "nbformat": 4,
 "nbformat_minor": 4
}
